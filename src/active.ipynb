{
 "cells": [
  {
   "cell_type": "code",
   "execution_count": 8,
   "metadata": {},
   "outputs": [],
   "source": [
    "from sklearn.ensemble import (\n",
    "    RandomForestRegressor,\n",
    "    GradientBoostingRegressor,\n",
    "    # HistGradientBoostingRegressor,\n",
    ")\n",
    "from sklearn.linear_model import LinearRegression\n",
    "from catboost import CatBoostRegressor\n",
    "from autosklearn.regression import AutoSklearnRegressor\n",
    "import click\n",
    "import os\n",
    "import common\n",
    "import json\n",
    "import numpy as np\n",
    "import pandas as pd\n",
    "import time\n",
    "from joblib import dump\n",
    "from sklearn import preprocessing\n",
    "from sklearn.gaussian_process import GaussianProcessRegressor\n",
    "from sklearn.gaussian_process.kernels import ConstantKernel, Matern\n",
    "from sklearn.metrics import (\n",
    "    mean_squared_error,\n",
    "    mean_absolute_percentage_error,\n",
    ")\n",
    "from active import *"
   ]
  },
  {
   "cell_type": "code",
   "execution_count": 3,
   "metadata": {},
   "outputs": [],
   "source": [
    "run_name = \"actdev\"\n",
    "system = \"xz\"\n",
    "method = \"gp\"\n",
    "output_directory = \"../runs/\"\n",
    "performance_property = \"time\"\n",
    "seed = 100\n",
    "tune = False\n",
    "data_dir = \"../data/\"\n",
    "\n",
    "full_data = common.load_data(data_dir, system=system)\n",
    "\n",
    "full_train_data, test_data, train_inputs, train_configs = common.split_data(\n",
    "    data=full_data[\"data\"],\n",
    "    system=system,\n",
    "    inputs_count=full_data[\"input_counts\"],\n",
    "    config_feat_cols=full_data[\"feature_columns\"],\n",
    "    random_seed=seed,\n",
    ")\n",
    "assert performance_property in full_data[\"performance_properties\"][system]\n",
    "input_data = full_data[\"input_properties_data\"][system]\n",
    "input_feature_columns = full_data[\"input_properties\"][system]\n",
    "config_feature_columns = full_data[\"feature_columns\"][system]"
   ]
  },
  {
   "cell_type": "code",
   "execution_count": 29,
   "metadata": {},
   "outputs": [
    {
     "data": {
      "text/plain": [
       "array([False, False, False,  True,  True,  True,  True,  True,  True,\n",
       "       False])"
      ]
     },
     "execution_count": 29,
     "metadata": {},
     "output_type": "execute_result"
    }
   ],
   "source": [
    "a = np.ones(10, dtype=bool)\n",
    "ma = np.ma.masked_array(a, mask=a)\n",
    "a[[0,1,9]] = False\n",
    "a[np.arange(len(a))[a][0]] = False\n",
    "a"
   ]
  },
  {
   "cell_type": "code",
   "execution_count": 4,
   "metadata": {},
   "outputs": [
    {
     "name": "stdout",
     "output_type": "stream",
     "text": [
      "(1161, 13)\n"
     ]
    }
   ],
   "source": [
    "train_data_matrix, y_train_input_ids = common.merge_matrix(\n",
    "    full_train_data,\n",
    "    None,\n",
    "    config_feature_columns,\n",
    "    input_data,\n",
    "    input_feature_columns,\n",
    ")\n",
    "X_train = train_data_matrix[config_feature_columns + input_feature_columns]\n",
    "y_train = train_data_matrix[performance_property].values\n",
    "train_config_ids = X_train[config_feature_columns].agg(lambda x: \"-\".join([str(s) for s in x]), axis=1).factorize()[0]\n",
    "train_input_ids = np.array(y_train_input_ids)\n",
    "\n",
    "test_data_matrix, y_test_input_ids = common.merge_matrix(\n",
    "    test_data,\n",
    "    None,  # no filter by configuration\n",
    "    config_feature_columns,\n",
    "    input_data,\n",
    "    input_feature_columns,\n",
    ")\n",
    "X_test = test_data_matrix[config_feature_columns + input_feature_columns]\n",
    "y_test = test_data_matrix[performance_property].values\n",
    "\n",
    "scaler = preprocessing.StandardScaler()\n",
    "X_train = scaler.fit_transform(X_train)\n",
    "X_test = scaler.transform(X_test)\n",
    "print(X_train.shape)"
   ]
  },
  {
   "cell_type": "code",
   "execution_count": 12,
   "metadata": {},
   "outputs": [
    {
     "name": "stdout",
     "output_type": "stream",
     "text": [
      "17.718003909439208 4.57426934331509 6.012781199470382\n",
      "[ True  True  True ...  True  True  True]\n",
      "1150\n",
      "0\t18.45 \t4.23 \t5.58\n",
      "1149\n",
      "1148\n",
      "1147\n",
      "1146\n",
      "1145\n",
      "5\t10.16 \t6.03 \t12.20\n",
      "1144\n",
      "1143\n",
      "1142\n",
      "1141\n",
      "1141\n",
      "10\t9.31 \t5.92 \t12.74\n",
      "1140\n",
      "1139\n",
      "1138\n",
      "1138\n",
      "1137\n",
      "15\t7.79 \t4.28 \t8.42\n",
      "1136\n",
      "1135\n",
      "1134\n",
      "1133\n"
     ]
    },
    {
     "name": "stderr",
     "output_type": "stream",
     "text": [
      "/home/helge/.virtualenvs/variability-mKfwPgKL/lib/python3.9/site-packages/sklearn/gaussian_process/_gpr.py:506: ConvergenceWarning: lbfgs failed to converge (status=2):\n",
      "ABNORMAL_TERMINATION_IN_LNSRCH.\n",
      "\n",
      "Increase the number of iterations (max_iter) or scale the data as shown in:\n",
      "    https://scikit-learn.org/stable/modules/preprocessing.html\n",
      "  _check_optimize_result(\"lbfgs\", opt_res)\n"
     ]
    },
    {
     "name": "stdout",
     "output_type": "stream",
     "text": [
      "1132\n",
      "20\t7.92 \t4.40 \t8.76\n",
      "1131\n"
     ]
    },
    {
     "name": "stderr",
     "output_type": "stream",
     "text": [
      "/home/helge/.virtualenvs/variability-mKfwPgKL/lib/python3.9/site-packages/sklearn/gaussian_process/_gpr.py:506: ConvergenceWarning: lbfgs failed to converge (status=2):\n",
      "ABNORMAL_TERMINATION_IN_LNSRCH.\n",
      "\n",
      "Increase the number of iterations (max_iter) or scale the data as shown in:\n",
      "    https://scikit-learn.org/stable/modules/preprocessing.html\n",
      "  _check_optimize_result(\"lbfgs\", opt_res)\n"
     ]
    },
    {
     "name": "stdout",
     "output_type": "stream",
     "text": [
      "1130\n",
      "1129\n",
      "1128\n",
      "1127\n",
      "25\t8.10 \t4.62 \t9.23\n",
      "1126\n",
      "1125\n"
     ]
    },
    {
     "name": "stderr",
     "output_type": "stream",
     "text": [
      "/home/helge/.virtualenvs/variability-mKfwPgKL/lib/python3.9/site-packages/sklearn/gaussian_process/_gpr.py:506: ConvergenceWarning: lbfgs failed to converge (status=2):\n",
      "ABNORMAL_TERMINATION_IN_LNSRCH.\n",
      "\n",
      "Increase the number of iterations (max_iter) or scale the data as shown in:\n",
      "    https://scikit-learn.org/stable/modules/preprocessing.html\n",
      "  _check_optimize_result(\"lbfgs\", opt_res)\n"
     ]
    },
    {
     "name": "stdout",
     "output_type": "stream",
     "text": [
      "1124\n",
      "1123\n",
      "29\t8.25 \t4.87 \t9.68\n"
     ]
    },
    {
     "name": "stderr",
     "output_type": "stream",
     "text": [
      "/home/helge/.virtualenvs/variability-mKfwPgKL/lib/python3.9/site-packages/sklearn/gaussian_process/_gpr.py:506: ConvergenceWarning: lbfgs failed to converge (status=2):\n",
      "ABNORMAL_TERMINATION_IN_LNSRCH.\n",
      "\n",
      "Increase the number of iterations (max_iter) or scale the data as shown in:\n",
      "    https://scikit-learn.org/stable/modules/preprocessing.html\n",
      "  _check_optimize_result(\"lbfgs\", opt_res)\n"
     ]
    }
   ],
   "source": [
    "\n",
    "\n",
    "query_strategy = \"combined\"\n",
    "\n",
    "\n",
    "\n",
    "\n",
    "# TODO Sort X_train by config id to enable easier selection implementation\n",
    "\n",
    "\n",
    "\n",
    "\n",
    "\n",
    "\n",
    "# model = RandomForestRegressor()\n",
    "# model.fit(X_train, y_train)\n",
    "print(\n",
    "    mean_squared_error(y_train, regressor.predict(X_train)),\n",
    "    mean_absolute_percentage_error(y_train, regressor.predict(X_train)),\n",
    "    mean_absolute_percentage_error(y_test, regressor.predict(X_test)),\n",
    ")\n",
    "print(pool_mask)\n",
    "\n",
    "\n",
    "    if idx % 5 == 0 or idx == n_queries - 1:\n",
    "        print(\n",
    "            f\"{idx}\\t{mean_squared_error(y_train, regressor.predict(X_train)):.2f}\",\n",
    "            f\"\\t{mean_absolute_percentage_error(y_train, regressor.predict(X_train)):.2f}\",\n",
    "            f\"\\t{mean_absolute_percentage_error(y_test, regressor.predict(X_test)):.2f}\",\n",
    "        )\n"
   ]
  },
  {
   "cell_type": "code",
   "execution_count": null,
   "metadata": {},
   "outputs": [
    {
     "name": "stdout",
     "output_type": "stream",
     "text": [
      "0.01604180041056587\n",
      "0.0487510089324085\n",
      "0.08547001650071885\n"
     ]
    }
   ],
   "source": [
    "model = RandomForestRegressor()\n",
    "# model = CatBoostRegressor()\n",
    "model.fit(X_train, y_train)\n",
    "print(mean_squared_error(y_train, model.predict(X_train)))\n",
    "print(mean_absolute_percentage_error(y_train, model.predict(X_train)))\n",
    "print(mean_absolute_percentage_error(y_test, model.predict(X_test)))"
   ]
  }
 ],
 "metadata": {
  "interpreter": {
   "hash": "2aee31dfc3a5f20bb1d01fbb0c1246518aac1c647f3a11d2243eb9db17473a91"
  },
  "kernelspec": {
   "display_name": "Python 3.9.9 ('variability-mKfwPgKL')",
   "language": "python",
   "name": "python3"
  },
  "language_info": {
   "codemirror_mode": {
    "name": "ipython",
    "version": 3
   },
   "file_extension": ".py",
   "mimetype": "text/x-python",
   "name": "python",
   "nbconvert_exporter": "python",
   "pygments_lexer": "ipython3",
   "version": "3.9.9"
  },
  "orig_nbformat": 4
 },
 "nbformat": 4,
 "nbformat_minor": 2
}
