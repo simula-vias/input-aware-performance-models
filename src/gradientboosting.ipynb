{
 "cells": [
  {
   "cell_type": "code",
   "execution_count": 42,
   "id": "6ca14117",
   "metadata": {},
   "outputs": [],
   "source": [
    "import pandas as pd\n",
    "import numpy as np\n",
    "import os\n",
    "from sklearn.model_selection import train_test_split\n",
    "from sklearn.ensemble import RandomForestRegressor, RandomForestClassifier, GradientBoostingClassifier\n",
    "# To add interactions in linear regressions models\n",
    "from sklearn.preprocessing import PolynomialFeatures, StandardScaler\n",
    "from sklearn.metrics import mean_squared_error, mean_absolute_error\n",
    "from sklearn.linear_model import ElasticNet"
   ]
  },
  {
   "cell_type": "code",
   "execution_count": 30,
   "id": "5f326789",
   "metadata": {},
   "outputs": [],
   "source": [
    "predDimension = \"kbs\"\n",
    "v_names_train = np.loadtxt(\"train_names.csv\", dtype=str)\n",
    "v_names_test = np.loadtxt(\"test_names.csv\", dtype=str)\n",
    "\n",
    "video_features = [\"WIDTH\", \"HEIGHT\", \"SPATIAL_COMPLEXITY\", \"TEMPORAL_COMPLEXITY\", \"COLOR_COMPLEXITY\", \"ORIG_SIZE\", \"ORIG_KBS\"]  # \"ORIG_DURATION\", \n",
    "config_features = [\"cabac\", \"ref\", \"deblock\", \"analyse\", \"me\", \"subme\", \"mixed_ref\", \"me_range\", \"trellis\", \n",
    "                \"8x8dct\", \"fast_pskip\", \"chroma_qp_offset\", \"bframes\", \"b_pyramid\", \n",
    "                \"b_adapt\", \"direct\", \"weightb\", \"open_gop\", \"weightp\", \"scenecut\", \"rc_lookahead\", \n",
    "                \"mbtree\", \"qpmax\", \"aq-mode\"]\n",
    "config_features_categorical = ['analyse', 'me', 'direct', 'deblock', 'b_pyramid', 'b_adapt', 'weightb', 'open_gop', 'scenecut', 'rc_lookahead']"
   ]
  },
  {
   "cell_type": "code",
   "execution_count": 31,
   "id": "39e66051",
   "metadata": {},
   "outputs": [],
   "source": [
    "df = pd.read_csv(\"all_features.csv\")"
   ]
  },
  {
   "cell_type": "code",
   "execution_count": 32,
   "id": "7c82ca6f",
   "metadata": {},
   "outputs": [],
   "source": [
    "for c in config_features_categorical:\n",
    "    df[c], _ = pd.factorize(df[c])"
   ]
  },
  {
   "cell_type": "code",
   "execution_count": 33,
   "id": "2183ce34",
   "metadata": {},
   "outputs": [
    {
     "data": {
      "text/html": [
       "<div>\n",
       "<style scoped>\n",
       "    .dataframe tbody tr th:only-of-type {\n",
       "        vertical-align: middle;\n",
       "    }\n",
       "\n",
       "    .dataframe tbody tr th {\n",
       "        vertical-align: top;\n",
       "    }\n",
       "\n",
       "    .dataframe thead th {\n",
       "        text-align: right;\n",
       "    }\n",
       "</style>\n",
       "<table border=\"1\" class=\"dataframe\">\n",
       "  <thead>\n",
       "    <tr style=\"text-align: right;\">\n",
       "      <th></th>\n",
       "      <th>configurationID</th>\n",
       "      <th>cabac</th>\n",
       "      <th>ref</th>\n",
       "      <th>deblock</th>\n",
       "      <th>analyse</th>\n",
       "      <th>me</th>\n",
       "      <th>subme</th>\n",
       "      <th>mixed_ref</th>\n",
       "      <th>me_range</th>\n",
       "      <th>trellis</th>\n",
       "      <th>...</th>\n",
       "      <th>etime</th>\n",
       "      <th>FILENAME</th>\n",
       "      <th>WIDTH</th>\n",
       "      <th>HEIGHT</th>\n",
       "      <th>SPATIAL_COMPLEXITY</th>\n",
       "      <th>TEMPORAL_COMPLEXITY</th>\n",
       "      <th>COLOR_COMPLEXITY</th>\n",
       "      <th>ORIG_SIZE</th>\n",
       "      <th>ORIG_DURATION</th>\n",
       "      <th>ORIG_KBS</th>\n",
       "    </tr>\n",
       "  </thead>\n",
       "  <tbody>\n",
       "    <tr>\n",
       "      <th>0</th>\n",
       "      <td>1</td>\n",
       "      <td>0</td>\n",
       "      <td>1</td>\n",
       "      <td>0</td>\n",
       "      <td>0</td>\n",
       "      <td>0</td>\n",
       "      <td>0</td>\n",
       "      <td>0</td>\n",
       "      <td>16</td>\n",
       "      <td>0</td>\n",
       "      <td>...</td>\n",
       "      <td>2.14</td>\n",
       "      <td>Animation_1080P-01b3</td>\n",
       "      <td>1920</td>\n",
       "      <td>1080</td>\n",
       "      <td>0.098</td>\n",
       "      <td>0.004</td>\n",
       "      <td>0.005</td>\n",
       "      <td>1866272605</td>\n",
       "      <td>20.02</td>\n",
       "      <td>745763.278</td>\n",
       "    </tr>\n",
       "    <tr>\n",
       "      <th>1</th>\n",
       "      <td>101</td>\n",
       "      <td>1</td>\n",
       "      <td>2</td>\n",
       "      <td>1</td>\n",
       "      <td>1</td>\n",
       "      <td>1</td>\n",
       "      <td>6</td>\n",
       "      <td>1</td>\n",
       "      <td>16</td>\n",
       "      <td>1</td>\n",
       "      <td>...</td>\n",
       "      <td>3.40</td>\n",
       "      <td>Animation_1080P-01b3</td>\n",
       "      <td>1920</td>\n",
       "      <td>1080</td>\n",
       "      <td>0.098</td>\n",
       "      <td>0.004</td>\n",
       "      <td>0.005</td>\n",
       "      <td>1866272605</td>\n",
       "      <td>20.02</td>\n",
       "      <td>745763.278</td>\n",
       "    </tr>\n",
       "    <tr>\n",
       "      <th>2</th>\n",
       "      <td>102</td>\n",
       "      <td>1</td>\n",
       "      <td>2</td>\n",
       "      <td>1</td>\n",
       "      <td>1</td>\n",
       "      <td>1</td>\n",
       "      <td>6</td>\n",
       "      <td>1</td>\n",
       "      <td>16</td>\n",
       "      <td>1</td>\n",
       "      <td>...</td>\n",
       "      <td>2.71</td>\n",
       "      <td>Animation_1080P-01b3</td>\n",
       "      <td>1920</td>\n",
       "      <td>1080</td>\n",
       "      <td>0.098</td>\n",
       "      <td>0.004</td>\n",
       "      <td>0.005</td>\n",
       "      <td>1866272605</td>\n",
       "      <td>20.02</td>\n",
       "      <td>745763.278</td>\n",
       "    </tr>\n",
       "    <tr>\n",
       "      <th>3</th>\n",
       "      <td>103</td>\n",
       "      <td>1</td>\n",
       "      <td>2</td>\n",
       "      <td>0</td>\n",
       "      <td>2</td>\n",
       "      <td>2</td>\n",
       "      <td>6</td>\n",
       "      <td>1</td>\n",
       "      <td>16</td>\n",
       "      <td>1</td>\n",
       "      <td>...</td>\n",
       "      <td>2.78</td>\n",
       "      <td>Animation_1080P-01b3</td>\n",
       "      <td>1920</td>\n",
       "      <td>1080</td>\n",
       "      <td>0.098</td>\n",
       "      <td>0.004</td>\n",
       "      <td>0.005</td>\n",
       "      <td>1866272605</td>\n",
       "      <td>20.02</td>\n",
       "      <td>745763.278</td>\n",
       "    </tr>\n",
       "    <tr>\n",
       "      <th>4</th>\n",
       "      <td>104</td>\n",
       "      <td>1</td>\n",
       "      <td>16</td>\n",
       "      <td>1</td>\n",
       "      <td>1</td>\n",
       "      <td>1</td>\n",
       "      <td>6</td>\n",
       "      <td>1</td>\n",
       "      <td>24</td>\n",
       "      <td>1</td>\n",
       "      <td>...</td>\n",
       "      <td>2.74</td>\n",
       "      <td>Animation_1080P-01b3</td>\n",
       "      <td>1920</td>\n",
       "      <td>1080</td>\n",
       "      <td>0.098</td>\n",
       "      <td>0.004</td>\n",
       "      <td>0.005</td>\n",
       "      <td>1866272605</td>\n",
       "      <td>20.02</td>\n",
       "      <td>745763.278</td>\n",
       "    </tr>\n",
       "  </tbody>\n",
       "</table>\n",
       "<p>5 rows × 43 columns</p>\n",
       "</div>"
      ],
      "text/plain": [
       "   configurationID  cabac  ref  deblock  analyse  me  subme  mixed_ref  \\\n",
       "0                1      0    1        0        0   0      0          0   \n",
       "1              101      1    2        1        1   1      6          1   \n",
       "2              102      1    2        1        1   1      6          1   \n",
       "3              103      1    2        0        2   2      6          1   \n",
       "4              104      1   16        1        1   1      6          1   \n",
       "\n",
       "   me_range  trellis  ...  etime              FILENAME  WIDTH  HEIGHT  \\\n",
       "0        16        0  ...   2.14  Animation_1080P-01b3   1920    1080   \n",
       "1        16        1  ...   3.40  Animation_1080P-01b3   1920    1080   \n",
       "2        16        1  ...   2.71  Animation_1080P-01b3   1920    1080   \n",
       "3        16        1  ...   2.78  Animation_1080P-01b3   1920    1080   \n",
       "4        24        1  ...   2.74  Animation_1080P-01b3   1920    1080   \n",
       "\n",
       "   SPATIAL_COMPLEXITY  TEMPORAL_COMPLEXITY  COLOR_COMPLEXITY   ORIG_SIZE  \\\n",
       "0               0.098                0.004             0.005  1866272605   \n",
       "1               0.098                0.004             0.005  1866272605   \n",
       "2               0.098                0.004             0.005  1866272605   \n",
       "3               0.098                0.004             0.005  1866272605   \n",
       "4               0.098                0.004             0.005  1866272605   \n",
       "\n",
       "   ORIG_DURATION    ORIG_KBS  \n",
       "0          20.02  745763.278  \n",
       "1          20.02  745763.278  \n",
       "2          20.02  745763.278  \n",
       "3          20.02  745763.278  \n",
       "4          20.02  745763.278  \n",
       "\n",
       "[5 rows x 43 columns]"
      ]
     },
     "execution_count": 33,
     "metadata": {},
     "output_type": "execute_result"
    }
   ],
   "source": [
    "df.head()"
   ]
  },
  {
   "cell_type": "code",
   "execution_count": 34,
   "id": "c43d2664",
   "metadata": {},
   "outputs": [
    {
     "data": {
      "text/html": [
       "<div>\n",
       "<style scoped>\n",
       "    .dataframe tbody tr th:only-of-type {\n",
       "        vertical-align: middle;\n",
       "    }\n",
       "\n",
       "    .dataframe tbody tr th {\n",
       "        vertical-align: top;\n",
       "    }\n",
       "\n",
       "    .dataframe thead th {\n",
       "        text-align: right;\n",
       "    }\n",
       "</style>\n",
       "<table border=\"1\" class=\"dataframe\">\n",
       "  <thead>\n",
       "    <tr style=\"text-align: right;\">\n",
       "      <th></th>\n",
       "      <th>size</th>\n",
       "      <th>kbs</th>\n",
       "      <th>ORIG_SIZE</th>\n",
       "      <th>ORIG_KBS</th>\n",
       "    </tr>\n",
       "  </thead>\n",
       "  <tbody>\n",
       "    <tr>\n",
       "      <th>count</th>\n",
       "      <td>2.578830e+05</td>\n",
       "      <td>257883.000000</td>\n",
       "      <td>2.578830e+05</td>\n",
       "      <td>2.578830e+05</td>\n",
       "    </tr>\n",
       "    <tr>\n",
       "      <th>mean</th>\n",
       "      <td>2.383429e+07</td>\n",
       "      <td>9606.272538</td>\n",
       "      <td>2.097679e+09</td>\n",
       "      <td>8.472107e+05</td>\n",
       "    </tr>\n",
       "    <tr>\n",
       "      <th>std</th>\n",
       "      <td>3.964479e+07</td>\n",
       "      <td>15918.283128</td>\n",
       "      <td>4.087176e+09</td>\n",
       "      <td>1.640564e+06</td>\n",
       "    </tr>\n",
       "    <tr>\n",
       "      <th>min</th>\n",
       "      <td>2.983100e+04</td>\n",
       "      <td>11.930000</td>\n",
       "      <td>2.765721e+06</td>\n",
       "      <td>7.248513e+03</td>\n",
       "    </tr>\n",
       "    <tr>\n",
       "      <th>25%</th>\n",
       "      <td>3.154450e+06</td>\n",
       "      <td>1279.815000</td>\n",
       "      <td>2.765120e+08</td>\n",
       "      <td>1.104943e+05</td>\n",
       "    </tr>\n",
       "    <tr>\n",
       "      <th>50%</th>\n",
       "      <td>8.685712e+06</td>\n",
       "      <td>3512.140000</td>\n",
       "      <td>8.280895e+08</td>\n",
       "      <td>3.314573e+05</td>\n",
       "    </tr>\n",
       "    <tr>\n",
       "      <th>75%</th>\n",
       "      <td>2.625575e+07</td>\n",
       "      <td>10582.225000</td>\n",
       "      <td>1.863162e+09</td>\n",
       "      <td>7.457633e+05</td>\n",
       "    </tr>\n",
       "    <tr>\n",
       "      <th>max</th>\n",
       "      <td>6.638726e+08</td>\n",
       "      <td>265726.630000</td>\n",
       "      <td>3.978001e+10</td>\n",
       "      <td>1.590937e+07</td>\n",
       "    </tr>\n",
       "  </tbody>\n",
       "</table>\n",
       "</div>"
      ],
      "text/plain": [
       "               size            kbs     ORIG_SIZE      ORIG_KBS\n",
       "count  2.578830e+05  257883.000000  2.578830e+05  2.578830e+05\n",
       "mean   2.383429e+07    9606.272538  2.097679e+09  8.472107e+05\n",
       "std    3.964479e+07   15918.283128  4.087176e+09  1.640564e+06\n",
       "min    2.983100e+04      11.930000  2.765721e+06  7.248513e+03\n",
       "25%    3.154450e+06    1279.815000  2.765120e+08  1.104943e+05\n",
       "50%    8.685712e+06    3512.140000  8.280895e+08  3.314573e+05\n",
       "75%    2.625575e+07   10582.225000  1.863162e+09  7.457633e+05\n",
       "max    6.638726e+08  265726.630000  3.978001e+10  1.590937e+07"
      ]
     },
     "execution_count": 34,
     "metadata": {},
     "output_type": "execute_result"
    }
   ],
   "source": [
    "df[[\"size\", \"kbs\", \"ORIG_SIZE\", \"ORIG_KBS\"]].describe()"
   ]
  },
  {
   "cell_type": "code",
   "execution_count": 20,
   "id": "acc5cb83",
   "metadata": {},
   "outputs": [
    {
     "name": "stdout",
     "output_type": "stream",
     "text": [
      "787 263\n"
     ]
    }
   ],
   "source": [
    "# we separate the list of videos into a training (i.e. offline) set and a test set (i.e. online)\n",
    "train_ind, test_ind = train_test_split([k for k in range(len(v_names_train))], test_size = 0.25, random_state=0)\n",
    "# training set indexes\n",
    "# train_index = [v[:-4] for v in v_names_train]\n",
    "train_index = [v_names_train[k][:-4] for k in train_ind]\n",
    "# test set indexes\n",
    "test_index = [v_names_train[k][:-4] for k in test_ind]\n",
    "print(len(train_index), len(test_index))\n",
    "\n",
    "train_df = df[df.FILENAME.isin(train_index)]\n",
    "val_df = df[df.FILENAME.isin(test_index)]\n",
    "\n",
    "X_train = train_df[video_features + config_features]\n",
    "y_train = np.array(train_df[predDimension] / train_df[\"ORIG_KBS\"]).reshape(-1, 1)\n",
    "# y_train = np.array(train_df[predDimension]).reshape(-1, 1)\n",
    "X_val = val_df[video_features + config_features]\n",
    "y_val = np.array(val_df[predDimension] / val_df[\"ORIG_KBS\"]).reshape(-1, 1)\n",
    "# y_val = np.array(val_df[predDimension]).reshape(-1, 1)"
   ]
  },
  {
   "cell_type": "code",
   "execution_count": 21,
   "id": "e5866577",
   "metadata": {},
   "outputs": [
    {
     "data": {
      "text/plain": [
       "(array([[13.98273117],\n",
       "        [ 5.07171851],\n",
       "        [ 4.45910709],\n",
       "        [ 4.45991083],\n",
       "        [ 6.24080809],\n",
       "        [ 6.28374393],\n",
       "        [ 5.77682446],\n",
       "        [ 6.01923275],\n",
       "        [ 4.96609086],\n",
       "        [ 4.71976031]]),\n",
       " 2412    622.090913\n",
       " 2413    622.090913\n",
       " 2414    622.090913\n",
       " 2415    622.090913\n",
       " 2416    622.090913\n",
       " Name: ORIG_KBS, dtype: float64)"
      ]
     },
     "execution_count": 21,
     "metadata": {},
     "output_type": "execute_result"
    }
   ],
   "source": [
    "y_val[:10], val_df[\"ORIG_KBS\"].head()"
   ]
  },
  {
   "cell_type": "code",
   "execution_count": 22,
   "id": "ad406428",
   "metadata": {},
   "outputs": [],
   "source": [
    "obj_scaler = StandardScaler()\n",
    "y_train = obj_scaler.fit_transform(y_train)\n",
    "y_val = obj_scaler.transform(y_val)"
   ]
  },
  {
   "cell_type": "code",
   "execution_count": 23,
   "id": "71eea440",
   "metadata": {},
   "outputs": [],
   "source": [
    "def print_val_error(y_val, y_pred_val, scaler):\n",
    "    mse = mean_squared_error(y_val, y_pred_val)\n",
    "    mae_rescaled = mean_absolute_error(scaler.inverse_transform(y_val), scaler.inverse_transform(y_pred_val))\n",
    "    mae_kbs = mean_absolute_error(scaler.inverse_transform(y_val).ravel()*val_df[\"ORIG_KBS\"].to_numpy(), scaler.inverse_transform(y_pred_val).ravel()*val_df[\"ORIG_KBS\"].to_numpy())\n",
    "    print(\"val error\", mse, mae_rescaled, mae_kbs)"
   ]
  },
  {
   "cell_type": "code",
   "execution_count": 24,
   "id": "d68c6360",
   "metadata": {},
   "outputs": [],
   "source": [
    "# import xgboost as xgb\n",
    "# xgb_model = xgb.XGBRegressor(n_jobs=4, n_estimators=5000)\n",
    "# xgb_model.fit(X_train, y_train)\n",
    "# y_pred_train = xgb_model.predict(X_train)\n",
    "# y_pred_test = xgb_model.predict(X_val)\n",
    "# print(\"train error: \", mean_squared_error(y_train, y_pred_train))\n",
    "# print_val_error(y_val, y_pred_test, obj_scaler)\n",
    "# # print(xgb_model.feature_importances_)"
   ]
  },
  {
   "cell_type": "code",
   "execution_count": 25,
   "id": "8388e000",
   "metadata": {},
   "outputs": [
    {
     "name": "stdout",
     "output_type": "stream",
     "text": [
      "train error:  0.002311513757837138\n",
      "val error 0.2887155911826448 4.717866326808415 3912.434262174496\n"
     ]
    }
   ],
   "source": [
    "# Parameters modified from the grid search result in the paper\n",
    "rgr = RandomForestRegressor(max_depth=None, max_features=20, min_samples_leaf=2, n_estimators=100, n_jobs=6)\n",
    "#rgr = RandomForestRegressor(n_jobs=4)\n",
    "rgr.fit(X_train, y_train.ravel())\n",
    "# rgr.score(X_test, y_test)\n",
    "y_pred_train = rgr.predict(X_train)\n",
    "y_pred_test = rgr.predict(X_val)\n",
    "print(\"train error: \", mean_squared_error(y_train, y_pred_train))\n",
    "print_val_error(y_val, y_pred_test, obj_scaler)"
   ]
  },
  {
   "cell_type": "code",
   "execution_count": null,
   "id": "a08c0ed6",
   "metadata": {},
   "outputs": [
    {
     "name": "stdout",
     "output_type": "stream",
     "text": [
      "Fitting 5 folds for each of 2205 candidates, totalling 11025 fits\n"
     ]
    },
    {
     "name": "stderr",
     "output_type": "stream",
     "text": [
      "/home/helge/Sandbox/variability/venv/lib/python3.9/site-packages/joblib/externals/loky/process_executor.py:688: UserWarning: A worker stopped while some jobs were given to the executor. This can be caused by a too short worker timeout or by a memory leak.\n",
      "  warnings.warn(\n"
     ]
    }
   ],
   "source": [
    "from sklearn.model_selection import GridSearchCV\n",
    "LA_rf = RandomForestRegressor()\n",
    "\n",
    "grid_search_larf = GridSearchCV(estimator = LA_rf,\n",
    "                                param_grid = {'n_estimators': [100, 200, 500, 1000, 1500, 2000, 2500, 3000, 3500],\n",
    "                                              # we didn't include 1 for min_samples_leaf to avoid overfitting\n",
    "                                         'min_samples_leaf' : [2, 5, 10, 15, 20, 30, 50],\n",
    "                                         'max_depth' : [3, 5, 10, 15, 20, 25, None],\n",
    "                                         'max_features' : [5, 15, 25, 30, 50]},\n",
    "                                scoring = 'neg_mean_squared_error',\n",
    "                                verbose = True,\n",
    "                                n_jobs = 6)\n",
    "\n",
    "grid_search_larf.fit(X_train, y_train.ravel())"
   ]
  },
  {
   "cell_type": "code",
   "execution_count": 44,
   "id": "e253519a",
   "metadata": {},
   "outputs": [
    {
     "name": "stdout",
     "output_type": "stream",
     "text": [
      "val error 0.9103662779766275 9.712649666894537 8010.343232593032\n"
     ]
    },
    {
     "name": "stderr",
     "output_type": "stream",
     "text": [
      "/home/helge/Sandbox/variability/venv/lib/python3.9/site-packages/sklearn/linear_model/_coordinate_descent.py:530: ConvergenceWarning: Objective did not converge. You might want to increase the number of iterations. Duality gap: 70910.93708095748, tolerance: 14.572500000000002\n",
      "  model = cd_fast.enet_coordinate_descent(\n"
     ]
    }
   ],
   "source": [
    "lr = ElasticNet()\n",
    "lr.fit(X_train, y_train.ravel())\n",
    "y_pred_test = lr.predict(X_val)\n",
    "print_val_error(y_val, y_pred_test, obj_scaler)"
   ]
  },
  {
   "cell_type": "code",
   "execution_count": 45,
   "id": "8470a4fc",
   "metadata": {},
   "outputs": [
    {
     "name": "stdout",
     "output_type": "stream",
     "text": [
      "[1]\tvalid_0's l1: 0.658165\tvalid_0's l2: 0.880951\n",
      "Training until validation scores don't improve for 5 rounds\n",
      "[2]\tvalid_0's l1: 0.640347\tvalid_0's l2: 0.835228\n",
      "[3]\tvalid_0's l1: 0.624555\tvalid_0's l2: 0.796592\n",
      "[4]\tvalid_0's l1: 0.608567\tvalid_0's l2: 0.76035\n",
      "[5]\tvalid_0's l1: 0.595\tvalid_0's l2: 0.730793\n",
      "[6]\tvalid_0's l1: 0.580761\tvalid_0's l2: 0.700823\n",
      "[7]\tvalid_0's l1: 0.566864\tvalid_0's l2: 0.670034\n",
      "[8]\tvalid_0's l1: 0.555147\tvalid_0's l2: 0.647366\n",
      "[9]\tvalid_0's l1: 0.543801\tvalid_0's l2: 0.623256\n",
      "[10]\tvalid_0's l1: 0.532304\tvalid_0's l2: 0.600353\n",
      "[11]\tvalid_0's l1: 0.522018\tvalid_0's l2: 0.57887\n",
      "[12]\tvalid_0's l1: 0.51106\tvalid_0's l2: 0.558669\n",
      "[13]\tvalid_0's l1: 0.503008\tvalid_0's l2: 0.54187\n",
      "[14]\tvalid_0's l1: 0.49512\tvalid_0's l2: 0.524729\n",
      "[15]\tvalid_0's l1: 0.485811\tvalid_0's l2: 0.507133\n",
      "[16]\tvalid_0's l1: 0.477511\tvalid_0's l2: 0.492129\n",
      "[17]\tvalid_0's l1: 0.469899\tvalid_0's l2: 0.478052\n",
      "[18]\tvalid_0's l1: 0.462371\tvalid_0's l2: 0.464526\n",
      "[19]\tvalid_0's l1: 0.455785\tvalid_0's l2: 0.453775\n",
      "[20]\tvalid_0's l1: 0.448652\tvalid_0's l2: 0.441857\n",
      "Did not meet early stopping. Best iteration is:\n",
      "[20]\tvalid_0's l1: 0.448652\tvalid_0's l2: 0.441857\n",
      "The RMSE of prediction is: 0.4418565892061187\n",
      "val error 0.4418565892061187 6.54945549708885 6318.748100071\n"
     ]
    }
   ],
   "source": [
    "import lightgbm as lgb\n",
    "gbm = lgb.LGBMRegressor(num_leaves=31,\n",
    "                        learning_rate=0.05,\n",
    "                        n_estimators=20)\n",
    "gbm.fit(X_train, y_train.ravel(),\n",
    "        eval_set=[(X_val, y_val.ravel())],\n",
    "        eval_metric='l1',\n",
    "        early_stopping_rounds=5)\n",
    "\n",
    "y_pred_test = gbm.predict(X_val, num_iteration=gbm.best_iteration_)\n",
    "# eval\n",
    "rmse_test = mean_squared_error(y_val, y_pred_test) #** 0.5\n",
    "print(f'The RMSE of prediction is: {rmse_test}')\n",
    "print_val_error(y_val, y_pred_test, obj_scaler)"
   ]
  }
 ],
 "metadata": {
  "kernelspec": {
   "display_name": "variability",
   "language": "python",
   "name": "variability"
  },
  "language_info": {
   "codemirror_mode": {
    "name": "ipython",
    "version": 3
   },
   "file_extension": ".py",
   "mimetype": "text/x-python",
   "name": "python",
   "nbconvert_exporter": "python",
   "pygments_lexer": "ipython3",
   "version": "3.9.5"
  }
 },
 "nbformat": 4,
 "nbformat_minor": 5
}
