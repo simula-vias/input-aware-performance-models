{
 "cells": [
  {
   "cell_type": "code",
   "execution_count": 1,
   "id": "939ced07",
   "metadata": {},
   "outputs": [],
   "source": [
    "import pandas as pd\n",
    "import numpy as np\n",
    "import os\n",
    "from sklearn.model_selection import train_test_split\n",
    "from sklearn.ensemble import RandomForestRegressor, RandomForestClassifier, GradientBoostingClassifier\n",
    "# To add interactions in linear regressions models\n",
    "from sklearn.preprocessing import PolynomialFeatures, StandardScaler\n",
    "from sklearn.metrics import mean_squared_error, mean_absolute_error, top_k_accuracy_score, accuracy_score\n",
    "from sklearn.linear_model import ElasticNet"
   ]
  },
  {
   "cell_type": "code",
   "execution_count": 2,
   "id": "ef32b13d",
   "metadata": {},
   "outputs": [],
   "source": [
    "predDimension = \"kbs\"\n",
    "v_names_train = np.loadtxt(\"train_names.csv\", dtype=str)\n",
    "v_names_test = np.loadtxt(\"test_names.csv\", dtype=str)\n",
    "\n",
    "video_features = [\"WIDTH\", \"HEIGHT\", \"SPATIAL_COMPLEXITY\", \"TEMPORAL_COMPLEXITY\", \"COLOR_COMPLEXITY\", \"ORIG_SIZE\", \"ORIG_KBS\", \"ORIG_DURATION\"]\n",
    "config_features = [\"cabac\", \"ref\", \"deblock\", \"analyse\", \"me\", \"subme\", \"mixed_ref\", \"me_range\", \"trellis\", \n",
    "                \"8x8dct\", \"fast_pskip\", \"chroma_qp_offset\", \"bframes\", \"b_pyramid\", \n",
    "                \"b_adapt\", \"direct\", \"weightb\", \"open_gop\", \"weightp\", \"scenecut\", \"rc_lookahead\", \n",
    "                \"mbtree\", \"qpmax\", \"aq-mode\"]\n",
    "config_features_categorical = ['analyse', 'me', 'direct', 'deblock', 'b_pyramid', 'b_adapt', 'weightb', 'open_gop', 'scenecut', 'rc_lookahead']"
   ]
  },
  {
   "cell_type": "code",
   "execution_count": 3,
   "id": "83bdb77f",
   "metadata": {},
   "outputs": [
    {
     "data": {
      "text/html": [
       "<div>\n",
       "<style scoped>\n",
       "    .dataframe tbody tr th:only-of-type {\n",
       "        vertical-align: middle;\n",
       "    }\n",
       "\n",
       "    .dataframe tbody tr th {\n",
       "        vertical-align: top;\n",
       "    }\n",
       "\n",
       "    .dataframe thead th {\n",
       "        text-align: right;\n",
       "    }\n",
       "</style>\n",
       "<table border=\"1\" class=\"dataframe\">\n",
       "  <thead>\n",
       "    <tr style=\"text-align: right;\">\n",
       "      <th></th>\n",
       "      <th>configurationID</th>\n",
       "      <th>cabac</th>\n",
       "      <th>ref</th>\n",
       "      <th>deblock</th>\n",
       "      <th>analyse</th>\n",
       "      <th>me</th>\n",
       "      <th>subme</th>\n",
       "      <th>mixed_ref</th>\n",
       "      <th>me_range</th>\n",
       "      <th>trellis</th>\n",
       "      <th>...</th>\n",
       "      <th>etime</th>\n",
       "      <th>FILENAME</th>\n",
       "      <th>WIDTH</th>\n",
       "      <th>HEIGHT</th>\n",
       "      <th>SPATIAL_COMPLEXITY</th>\n",
       "      <th>TEMPORAL_COMPLEXITY</th>\n",
       "      <th>COLOR_COMPLEXITY</th>\n",
       "      <th>ORIG_SIZE</th>\n",
       "      <th>ORIG_DURATION</th>\n",
       "      <th>ORIG_KBS</th>\n",
       "    </tr>\n",
       "  </thead>\n",
       "  <tbody>\n",
       "    <tr>\n",
       "      <th>0</th>\n",
       "      <td>1</td>\n",
       "      <td>0</td>\n",
       "      <td>0</td>\n",
       "      <td>0</td>\n",
       "      <td>0</td>\n",
       "      <td>0</td>\n",
       "      <td>0</td>\n",
       "      <td>0</td>\n",
       "      <td>0</td>\n",
       "      <td>0</td>\n",
       "      <td>...</td>\n",
       "      <td>2.14</td>\n",
       "      <td>Animation_1080P-01b3</td>\n",
       "      <td>1920</td>\n",
       "      <td>1080</td>\n",
       "      <td>0.098</td>\n",
       "      <td>0.004</td>\n",
       "      <td>0.005</td>\n",
       "      <td>1866272605</td>\n",
       "      <td>20.02</td>\n",
       "      <td>745763.278</td>\n",
       "    </tr>\n",
       "    <tr>\n",
       "      <th>1</th>\n",
       "      <td>101</td>\n",
       "      <td>1</td>\n",
       "      <td>1</td>\n",
       "      <td>1</td>\n",
       "      <td>1</td>\n",
       "      <td>1</td>\n",
       "      <td>1</td>\n",
       "      <td>1</td>\n",
       "      <td>0</td>\n",
       "      <td>1</td>\n",
       "      <td>...</td>\n",
       "      <td>3.40</td>\n",
       "      <td>Animation_1080P-01b3</td>\n",
       "      <td>1920</td>\n",
       "      <td>1080</td>\n",
       "      <td>0.098</td>\n",
       "      <td>0.004</td>\n",
       "      <td>0.005</td>\n",
       "      <td>1866272605</td>\n",
       "      <td>20.02</td>\n",
       "      <td>745763.278</td>\n",
       "    </tr>\n",
       "    <tr>\n",
       "      <th>2</th>\n",
       "      <td>102</td>\n",
       "      <td>1</td>\n",
       "      <td>1</td>\n",
       "      <td>1</td>\n",
       "      <td>1</td>\n",
       "      <td>1</td>\n",
       "      <td>1</td>\n",
       "      <td>1</td>\n",
       "      <td>0</td>\n",
       "      <td>1</td>\n",
       "      <td>...</td>\n",
       "      <td>2.71</td>\n",
       "      <td>Animation_1080P-01b3</td>\n",
       "      <td>1920</td>\n",
       "      <td>1080</td>\n",
       "      <td>0.098</td>\n",
       "      <td>0.004</td>\n",
       "      <td>0.005</td>\n",
       "      <td>1866272605</td>\n",
       "      <td>20.02</td>\n",
       "      <td>745763.278</td>\n",
       "    </tr>\n",
       "    <tr>\n",
       "      <th>3</th>\n",
       "      <td>103</td>\n",
       "      <td>1</td>\n",
       "      <td>1</td>\n",
       "      <td>0</td>\n",
       "      <td>2</td>\n",
       "      <td>2</td>\n",
       "      <td>1</td>\n",
       "      <td>1</td>\n",
       "      <td>0</td>\n",
       "      <td>1</td>\n",
       "      <td>...</td>\n",
       "      <td>2.78</td>\n",
       "      <td>Animation_1080P-01b3</td>\n",
       "      <td>1920</td>\n",
       "      <td>1080</td>\n",
       "      <td>0.098</td>\n",
       "      <td>0.004</td>\n",
       "      <td>0.005</td>\n",
       "      <td>1866272605</td>\n",
       "      <td>20.02</td>\n",
       "      <td>745763.278</td>\n",
       "    </tr>\n",
       "    <tr>\n",
       "      <th>4</th>\n",
       "      <td>104</td>\n",
       "      <td>1</td>\n",
       "      <td>2</td>\n",
       "      <td>1</td>\n",
       "      <td>1</td>\n",
       "      <td>1</td>\n",
       "      <td>1</td>\n",
       "      <td>1</td>\n",
       "      <td>1</td>\n",
       "      <td>1</td>\n",
       "      <td>...</td>\n",
       "      <td>2.74</td>\n",
       "      <td>Animation_1080P-01b3</td>\n",
       "      <td>1920</td>\n",
       "      <td>1080</td>\n",
       "      <td>0.098</td>\n",
       "      <td>0.004</td>\n",
       "      <td>0.005</td>\n",
       "      <td>1866272605</td>\n",
       "      <td>20.02</td>\n",
       "      <td>745763.278</td>\n",
       "    </tr>\n",
       "  </tbody>\n",
       "</table>\n",
       "<p>5 rows × 43 columns</p>\n",
       "</div>"
      ],
      "text/plain": [
       "   configurationID  cabac  ref  deblock  analyse  me  subme  mixed_ref  \\\n",
       "0                1      0    0        0        0   0      0          0   \n",
       "1              101      1    1        1        1   1      1          1   \n",
       "2              102      1    1        1        1   1      1          1   \n",
       "3              103      1    1        0        2   2      1          1   \n",
       "4              104      1    2        1        1   1      1          1   \n",
       "\n",
       "   me_range  trellis  ...  etime              FILENAME  WIDTH  HEIGHT  \\\n",
       "0         0        0  ...   2.14  Animation_1080P-01b3   1920    1080   \n",
       "1         0        1  ...   3.40  Animation_1080P-01b3   1920    1080   \n",
       "2         0        1  ...   2.71  Animation_1080P-01b3   1920    1080   \n",
       "3         0        1  ...   2.78  Animation_1080P-01b3   1920    1080   \n",
       "4         1        1  ...   2.74  Animation_1080P-01b3   1920    1080   \n",
       "\n",
       "   SPATIAL_COMPLEXITY  TEMPORAL_COMPLEXITY  COLOR_COMPLEXITY   ORIG_SIZE  \\\n",
       "0               0.098                0.004             0.005  1866272605   \n",
       "1               0.098                0.004             0.005  1866272605   \n",
       "2               0.098                0.004             0.005  1866272605   \n",
       "3               0.098                0.004             0.005  1866272605   \n",
       "4               0.098                0.004             0.005  1866272605   \n",
       "\n",
       "   ORIG_DURATION    ORIG_KBS  \n",
       "0          20.02  745763.278  \n",
       "1          20.02  745763.278  \n",
       "2          20.02  745763.278  \n",
       "3          20.02  745763.278  \n",
       "4          20.02  745763.278  \n",
       "\n",
       "[5 rows x 43 columns]"
      ]
     },
     "execution_count": 3,
     "metadata": {},
     "output_type": "execute_result"
    }
   ],
   "source": [
    "df = pd.read_csv(\"all_features.csv\")\n",
    "\n",
    "for c in config_features: #_categorical:\n",
    "    df[c], _ = pd.factorize(df[c])\n",
    "    \n",
    "df.head()"
   ]
  },
  {
   "cell_type": "code",
   "execution_count": 4,
   "id": "6402d623",
   "metadata": {},
   "outputs": [
    {
     "name": "stdout",
     "output_type": "stream",
     "text": [
      "787 263\n"
     ]
    }
   ],
   "source": [
    "# we separate the list of videos into a training (i.e. offline) set and a test set (i.e. online)\n",
    "train_ind, test_ind = train_test_split([k for k in range(len(v_names_train))], test_size = 0.25)\n",
    "# training set indexes\n",
    "# train_index = [v[:-4] for v in v_names_train]\n",
    "train_index = [v_names_train[k][:-4] for k in train_ind]\n",
    "# test set indexes\n",
    "test_index = [v_names_train[k][:-4] for k in test_ind]\n",
    "print(len(train_index), len(test_index))\n",
    "\n",
    "train_df = df[df.FILENAME.isin(train_index)].reset_index()\n",
    "val_df = df[df.FILENAME.isin(test_index)].reset_index()\n",
    "\n",
    "# X_train = train_df[video_features + config_features]\n",
    "# y_train = np.array(train_df[predDimension]).reshape(-1, 1)\n",
    "# X_val = val_df[video_features + config_features]\n",
    "# y_val = np.array(val_df[predDimension]).reshape(-1, 1)"
   ]
  },
  {
   "cell_type": "code",
   "execution_count": 5,
   "id": "5277679b",
   "metadata": {},
   "outputs": [],
   "source": [
    "X_train = []\n",
    "y_train = []\n",
    "for video_name in train_df.FILENAME.unique():\n",
    "    idx = train_df[train_df.FILENAME == video_name][predDimension].idxmin()\n",
    "    row = train_df.iloc[idx]\n",
    "    X_train.append(row[video_features].to_numpy())\n",
    "    y_train.append(row['configurationID'])\n",
    "\n",
    "X_train = np.array(X_train)\n",
    "y_train = np.array(y_train).reshape(-1, 1)\n",
    "\n",
    "X_val = []\n",
    "y_val = []\n",
    "for video_name in sorted(val_df.FILENAME.unique()):\n",
    "    idx = val_df[val_df.FILENAME == video_name][predDimension].idxmin()\n",
    "    row = val_df.iloc[idx]\n",
    "    X_val.append(row[video_features].to_numpy())\n",
    "    y_val.append(row['configurationID'])\n",
    "\n",
    "X_val = np.array(X_val)\n",
    "y_val = np.array(y_val).reshape(-1, 1)"
   ]
  },
  {
   "cell_type": "code",
   "execution_count": 6,
   "id": "420fbc04",
   "metadata": {},
   "outputs": [
    {
     "data": {
      "text/plain": [
       "((730, 8), (730, 1), (241, 8), (241, 1))"
      ]
     },
     "execution_count": 6,
     "metadata": {},
     "output_type": "execute_result"
    }
   ],
   "source": [
    "X_train.shape, y_train.shape, X_val.shape, y_val.shape"
   ]
  },
  {
   "cell_type": "code",
   "execution_count": 7,
   "id": "b9b0ddd5",
   "metadata": {},
   "outputs": [],
   "source": [
    "def performance_ratio(df, pred_classes):\n",
    "    ratios = []\n",
    "    for video_name, pred_cl in zip(sorted(df.FILENAME.unique()), pred_classes):\n",
    "        idx = df[df.FILENAME == video_name][predDimension].idxmin()\n",
    "        best_perf = df.iloc[idx][predDimension]\n",
    "        pred_perf = df[(df.FILENAME == video_name) & (df.configurationID == pred_cl)][predDimension]\n",
    "        ratios.append(pred_perf/best_perf)\n",
    "        \n",
    "    return np.mean(ratios)"
   ]
  },
  {
   "cell_type": "code",
   "execution_count": 8,
   "id": "7d71d847",
   "metadata": {},
   "outputs": [
    {
     "data": {
      "text/plain": [
       "1.1222257210075532"
      ]
     },
     "execution_count": 8,
     "metadata": {},
     "output_type": "execute_result"
    }
   ],
   "source": [
    "clf = RandomForestClassifier(max_depth=None, min_samples_leaf=2, n_estimators=100, n_jobs=1)\n",
    "clf.fit(X_train, y_train.ravel())\n",
    "clf.score(X_val, y_val)\n",
    "y_pred_val = clf.predict(X_val)\n",
    "performance_ratio(val_df, y_pred_val)"
   ]
  },
  {
   "cell_type": "code",
   "execution_count": 9,
   "id": "1ea18145",
   "metadata": {},
   "outputs": [
    {
     "data": {
      "text/plain": [
       "(48441, 44)"
      ]
     },
     "execution_count": 9,
     "metadata": {},
     "output_type": "execute_result"
    }
   ],
   "source": [
    "val_df.shape"
   ]
  },
  {
   "cell_type": "code",
   "execution_count": null,
   "id": "2deca5d0",
   "metadata": {},
   "outputs": [],
   "source": []
  },
  {
   "cell_type": "code",
   "execution_count": 19,
   "id": "9bed7ad3",
   "metadata": {},
   "outputs": [],
   "source": [
    "# Reformulate into a classification problem: how much will be the kbs be reduced?\n",
    "\n",
    "X_train = train_df[video_features + config_features].to_numpy()\n",
    "# y_train = np.array(train_df[predDimension] / train_df[\"ORIG_KBS\"]).reshape(-1, 1)\n",
    "# y_train = np.array(train_df[predDimension]).reshape(-1, 1)\n",
    "X_val = val_df[video_features + config_features].to_numpy()\n",
    "# y_val = np.array(val_df[predDimension] / val_df[\"ORIG_KBS\"]).reshape(-1, 1)\n",
    "# y_val = np.array(val_df[predDimension]).reshape(-1, 1)\n",
    "\n",
    "classes = 10 ** np.linspace(np.log10(0.001), np.log10(1.0), 50)\n",
    "y_train = ((train_df[predDimension] / train_df[\"ORIG_KBS\"]).to_numpy()[:, np.newaxis] < classes.reshape(1, -1)).argmax(axis=1).reshape(-1, 1)\n",
    "y_val = ((val_df[predDimension] / val_df[\"ORIG_KBS\"]).to_numpy()[:, np.newaxis] < classes.reshape(1, -1)).argmax(axis=1).reshape(-1, 1)\n",
    "true_ratio = (val_df[predDimension]).to_numpy()"
   ]
  },
  {
   "cell_type": "code",
   "execution_count": null,
   "id": "4b526100",
   "metadata": {},
   "outputs": [],
   "source": [
    "def performance_ratio_clf(df, clf):\n",
    "    ratios = []\n",
    "    for video_name, pred_cl in zip(sorted(df.FILENAME.unique()), pred_classes):\n",
    "        idx = df[df.FILENAME == video_name][predDimension].idxmin()\n",
    "        best_perf = df.iloc[idx][predDimension]\n",
    "        pred_perf = df[(df.FILENAME == video_name) & (df.configurationID == pred_cl)][predDimension]\n",
    "        ratios.append(pred_perf/best_perf)\n",
    "        \n",
    "    return np.mean(ratios)"
   ]
  },
  {
   "cell_type": "code",
   "execution_count": 14,
   "id": "1a6bdebd",
   "metadata": {},
   "outputs": [],
   "source": [
    "clf = RandomForestClassifier(max_depth=None, min_samples_leaf=2, n_estimators=100, n_jobs=1)\n",
    "clf.fit(X_train, y_train.ravel())\n",
    "clf.score(X_val, y_val)\n",
    "y_pred_val = clf.predict(X_val)\n",
    "# accuracy(y_val, y_pred_val)\n",
    "# performance_ratio(val_df, y_pred_val)"
   ]
  },
  {
   "cell_type": "code",
   "execution_count": 21,
   "id": "b14b7edf",
   "metadata": {},
   "outputs": [
    {
     "data": {
      "text/plain": [
       "1.3039912747343665"
      ]
     },
     "execution_count": 21,
     "metadata": {},
     "output_type": "execute_result"
    }
   ],
   "source": [
    "np.mean(classes[y_pred_val]*val_df[\"ORIG_KBS\"] / true_ratio)"
   ]
  },
  {
   "cell_type": "code",
   "execution_count": 12,
   "id": "84b770f0",
   "metadata": {},
   "outputs": [],
   "source": [
    "# clf = RandomForestClassifier(max_depth=None, min_samples_leaf=2, n_estimators=100, n_jobs=1)\n",
    "# clf.fit(X_train, y_train)\n",
    "# print(clf.classes_)\n",
    "# print(clf.n_classes_)\n",
    "# print(clf.n_outputs_)\n",
    "# y_val_pred = clf.predict(X_val)\n",
    "# accuracy_score(y_val, y_val_pred)"
   ]
  }
 ],
 "metadata": {
  "kernelspec": {
   "display_name": "variability",
   "language": "python",
   "name": "variability"
  },
  "language_info": {
   "codemirror_mode": {
    "name": "ipython",
    "version": 3
   },
   "file_extension": ".py",
   "mimetype": "text/x-python",
   "name": "python",
   "nbconvert_exporter": "python",
   "pygments_lexer": "ipython3",
   "version": "3.9.5"
  }
 },
 "nbformat": 4,
 "nbformat_minor": 5
}
