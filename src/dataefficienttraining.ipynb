{
 "cells": [
  {
   "cell_type": "code",
   "execution_count": 13,
   "id": "c6b8dbc0",
   "metadata": {},
   "outputs": [],
   "source": [
    "import pandas as pd\n",
    "import numpy as np\n",
    "import os\n",
    "from sklearn.model_selection import train_test_split\n",
    "from sklearn.ensemble import RandomForestRegressor, RandomForestClassifier, GradientBoostingClassifier\n",
    "\n",
    "# To add interactions in linear regressions models\n",
    "from sklearn.preprocessing import PolynomialFeatures, StandardScaler\n",
    "from sklearn.metrics import mean_squared_error, mean_absolute_error#, accuracy\n",
    "from sklearn.linear_model import BayesianRidge\n",
    "\n",
    "import matplotlib.pyplot as plt\n",
    "from mpl_toolkits.mplot3d import Axes3D\n",
    "from sklearn import decomposition"
   ]
  },
  {
   "cell_type": "code",
   "execution_count": 19,
   "id": "3ddfaccd",
   "metadata": {},
   "outputs": [],
   "source": [
    "predDimension = \"kbs\"\n",
    "v_names_train = np.loadtxt(\"train_names.csv\", dtype=str)\n",
    "train_names = [s[:-4] for s in v_names_train]\n",
    "v_names_test = np.loadtxt(\"test_names.csv\", dtype=str)\n",
    "\n",
    "video_features = [\"WIDTH\", \"HEIGHT\", \"SPATIAL_COMPLEXITY\", \"TEMPORAL_COMPLEXITY\", \"COLOR_COMPLEXITY\", \"ORIG_SIZE\", \"ORIG_KBS\"] \n",
    "config_features = [\"cabac\", \"ref\", \"deblock\", \"analyse\", \"me\", \"subme\", \"mixed_ref\", \"me_range\", \"trellis\", \n",
    "                \"8x8dct\", \"fast_pskip\", \"chroma_qp_offset\", \"bframes\", \"b_pyramid\", \n",
    "                \"b_adapt\", \"direct\", \"weightb\", \"open_gop\", \"weightp\", \"scenecut\", \"rc_lookahead\", \n",
    "                \"mbtree\", \"qpmax\", \"aq-mode\"]\n",
    "config_features_categorical = ['analyse', 'me', 'direct', 'deblock', 'b_pyramid', 'b_adapt', 'weightb', 'open_gop', 'scenecut', 'rc_lookahead']"
   ]
  },
  {
   "cell_type": "code",
   "execution_count": 11,
   "id": "cba78739",
   "metadata": {},
   "outputs": [
    {
     "data": {
      "text/html": [
       "<div>\n",
       "<style scoped>\n",
       "    .dataframe tbody tr th:only-of-type {\n",
       "        vertical-align: middle;\n",
       "    }\n",
       "\n",
       "    .dataframe tbody tr th {\n",
       "        vertical-align: top;\n",
       "    }\n",
       "\n",
       "    .dataframe thead th {\n",
       "        text-align: right;\n",
       "    }\n",
       "</style>\n",
       "<table border=\"1\" class=\"dataframe\">\n",
       "  <thead>\n",
       "    <tr style=\"text-align: right;\">\n",
       "      <th></th>\n",
       "      <th>configurationID</th>\n",
       "      <th>cabac</th>\n",
       "      <th>ref</th>\n",
       "      <th>deblock</th>\n",
       "      <th>analyse</th>\n",
       "      <th>me</th>\n",
       "      <th>subme</th>\n",
       "      <th>mixed_ref</th>\n",
       "      <th>me_range</th>\n",
       "      <th>trellis</th>\n",
       "      <th>...</th>\n",
       "      <th>kbs</th>\n",
       "      <th>etime</th>\n",
       "      <th>FILENAME</th>\n",
       "      <th>WIDTH</th>\n",
       "      <th>HEIGHT</th>\n",
       "      <th>SPATIAL_COMPLEXITY</th>\n",
       "      <th>TEMPORAL_COMPLEXITY</th>\n",
       "      <th>COLOR_COMPLEXITY</th>\n",
       "      <th>ORIG_SIZE</th>\n",
       "      <th>ORIG_KBS</th>\n",
       "    </tr>\n",
       "  </thead>\n",
       "  <tbody>\n",
       "    <tr>\n",
       "      <th>0</th>\n",
       "      <td>1</td>\n",
       "      <td>0</td>\n",
       "      <td>1</td>\n",
       "      <td>0</td>\n",
       "      <td>0</td>\n",
       "      <td>0</td>\n",
       "      <td>0</td>\n",
       "      <td>0</td>\n",
       "      <td>16</td>\n",
       "      <td>0</td>\n",
       "      <td>...</td>\n",
       "      <td>161.07</td>\n",
       "      <td>2.14</td>\n",
       "      <td>Animation_1080P-01b3</td>\n",
       "      <td>1920</td>\n",
       "      <td>1080</td>\n",
       "      <td>0.098</td>\n",
       "      <td>0.004</td>\n",
       "      <td>0.005</td>\n",
       "      <td>1866272605</td>\n",
       "      <td>745763.278</td>\n",
       "    </tr>\n",
       "    <tr>\n",
       "      <th>1</th>\n",
       "      <td>101</td>\n",
       "      <td>1</td>\n",
       "      <td>2</td>\n",
       "      <td>1</td>\n",
       "      <td>1</td>\n",
       "      <td>1</td>\n",
       "      <td>6</td>\n",
       "      <td>1</td>\n",
       "      <td>16</td>\n",
       "      <td>1</td>\n",
       "      <td>...</td>\n",
       "      <td>93.57</td>\n",
       "      <td>3.40</td>\n",
       "      <td>Animation_1080P-01b3</td>\n",
       "      <td>1920</td>\n",
       "      <td>1080</td>\n",
       "      <td>0.098</td>\n",
       "      <td>0.004</td>\n",
       "      <td>0.005</td>\n",
       "      <td>1866272605</td>\n",
       "      <td>745763.278</td>\n",
       "    </tr>\n",
       "    <tr>\n",
       "      <th>2</th>\n",
       "      <td>102</td>\n",
       "      <td>1</td>\n",
       "      <td>2</td>\n",
       "      <td>1</td>\n",
       "      <td>1</td>\n",
       "      <td>1</td>\n",
       "      <td>6</td>\n",
       "      <td>1</td>\n",
       "      <td>16</td>\n",
       "      <td>1</td>\n",
       "      <td>...</td>\n",
       "      <td>63.87</td>\n",
       "      <td>2.71</td>\n",
       "      <td>Animation_1080P-01b3</td>\n",
       "      <td>1920</td>\n",
       "      <td>1080</td>\n",
       "      <td>0.098</td>\n",
       "      <td>0.004</td>\n",
       "      <td>0.005</td>\n",
       "      <td>1866272605</td>\n",
       "      <td>745763.278</td>\n",
       "    </tr>\n",
       "    <tr>\n",
       "      <th>3</th>\n",
       "      <td>103</td>\n",
       "      <td>1</td>\n",
       "      <td>2</td>\n",
       "      <td>0</td>\n",
       "      <td>2</td>\n",
       "      <td>2</td>\n",
       "      <td>6</td>\n",
       "      <td>1</td>\n",
       "      <td>16</td>\n",
       "      <td>1</td>\n",
       "      <td>...</td>\n",
       "      <td>65.37</td>\n",
       "      <td>2.78</td>\n",
       "      <td>Animation_1080P-01b3</td>\n",
       "      <td>1920</td>\n",
       "      <td>1080</td>\n",
       "      <td>0.098</td>\n",
       "      <td>0.004</td>\n",
       "      <td>0.005</td>\n",
       "      <td>1866272605</td>\n",
       "      <td>745763.278</td>\n",
       "    </tr>\n",
       "    <tr>\n",
       "      <th>4</th>\n",
       "      <td>104</td>\n",
       "      <td>1</td>\n",
       "      <td>16</td>\n",
       "      <td>1</td>\n",
       "      <td>1</td>\n",
       "      <td>1</td>\n",
       "      <td>6</td>\n",
       "      <td>1</td>\n",
       "      <td>24</td>\n",
       "      <td>1</td>\n",
       "      <td>...</td>\n",
       "      <td>87.27</td>\n",
       "      <td>2.74</td>\n",
       "      <td>Animation_1080P-01b3</td>\n",
       "      <td>1920</td>\n",
       "      <td>1080</td>\n",
       "      <td>0.098</td>\n",
       "      <td>0.004</td>\n",
       "      <td>0.005</td>\n",
       "      <td>1866272605</td>\n",
       "      <td>745763.278</td>\n",
       "    </tr>\n",
       "  </tbody>\n",
       "</table>\n",
       "<p>5 rows × 42 columns</p>\n",
       "</div>"
      ],
      "text/plain": [
       "   configurationID  cabac  ref  deblock  analyse  me  subme  mixed_ref  \\\n",
       "0                1      0    1        0        0   0      0          0   \n",
       "1              101      1    2        1        1   1      6          1   \n",
       "2              102      1    2        1        1   1      6          1   \n",
       "3              103      1    2        0        2   2      6          1   \n",
       "4              104      1   16        1        1   1      6          1   \n",
       "\n",
       "   me_range  trellis  ...     kbs  etime              FILENAME  WIDTH  HEIGHT  \\\n",
       "0        16        0  ...  161.07   2.14  Animation_1080P-01b3   1920    1080   \n",
       "1        16        1  ...   93.57   3.40  Animation_1080P-01b3   1920    1080   \n",
       "2        16        1  ...   63.87   2.71  Animation_1080P-01b3   1920    1080   \n",
       "3        16        1  ...   65.37   2.78  Animation_1080P-01b3   1920    1080   \n",
       "4        24        1  ...   87.27   2.74  Animation_1080P-01b3   1920    1080   \n",
       "\n",
       "   SPATIAL_COMPLEXITY  TEMPORAL_COMPLEXITY  COLOR_COMPLEXITY   ORIG_SIZE  \\\n",
       "0               0.098                0.004             0.005  1866272605   \n",
       "1               0.098                0.004             0.005  1866272605   \n",
       "2               0.098                0.004             0.005  1866272605   \n",
       "3               0.098                0.004             0.005  1866272605   \n",
       "4               0.098                0.004             0.005  1866272605   \n",
       "\n",
       "     ORIG_KBS  \n",
       "0  745763.278  \n",
       "1  745763.278  \n",
       "2  745763.278  \n",
       "3  745763.278  \n",
       "4  745763.278  \n",
       "\n",
       "[5 rows x 42 columns]"
      ]
     },
     "execution_count": 11,
     "metadata": {},
     "output_type": "execute_result"
    }
   ],
   "source": [
    "df = pd.read_csv(\"all_features.csv\")\n",
    "\n",
    "for c in config_features_categorical:\n",
    "    df[c], _ = pd.factorize(df[c])\n",
    "    \n",
    "df.head()"
   ]
  },
  {
   "cell_type": "code",
   "execution_count": 23,
   "id": "9924c1ee-84d3-4551-baba-7c318f6b6f33",
   "metadata": {},
   "outputs": [],
   "source": [
    "df[\"video_category\"] = df.FILENAME.str.split(\"_\", expand=True)[0] #.unique()"
   ]
  },
  {
   "cell_type": "code",
   "execution_count": 26,
   "id": "6e0049d9-6b0b-4d41-8967-6ddf55d28287",
   "metadata": {},
   "outputs": [
    {
     "data": {
      "text/plain": [
       "15"
      ]
     },
     "execution_count": 26,
     "metadata": {},
     "output_type": "execute_result"
    }
   ],
   "source": [
    "df[\"video_category\"].unique()"
   ]
  },
  {
   "cell_type": "code",
   "execution_count": 41,
   "id": "cd7110d9-4185-419d-8361-b78aa4949685",
   "metadata": {},
   "outputs": [
    {
     "data": {
      "text/plain": [
       "<matplotlib.legend.Legend at 0x7fcb92a51040>"
      ]
     },
     "execution_count": 41,
     "metadata": {},
     "output_type": "execute_result"
    },
    {
     "data": {
      "image/png": "[encoded data removed]",
      "text/plain": [
       "<Figure size 432x288 with 1 Axes>"
      ]
     },
     "metadata": {
      "needs_background": "light"
     },
     "output_type": "display_data"
    }
   ],
   "source": [
    "train_df = df[df.FILENAME.isin(train_names)]\n",
    "video_data = train_df[video_features + [\"video_category\"]].drop_duplicates()\n",
    "pca = decomposition.PCA(n_components=2)\n",
    "X_red = pca.fit_transform(video_data[[\"SPATIAL_COMPLEXITY\", \"TEMPORAL_COMPLEXITY\", \"COLOR_COMPLEXITY\"]])\n",
    "y = video_data[\"video_category\"]\n",
    "\n",
    "colors = ['navy', 'turquoise', 'darkorange']\n",
    "\n",
    "plt.set_cmap(\"tab20c\")\n",
    "\n",
    "# for color, i, target_name in zip(colors, [0, 1, 2], iris.target_names):\n",
    "for i, category in enumerate(video_data[\"video_category\"].unique()):\n",
    "    plt.scatter(X_red[y == category, 0], X_red[y == category, 1], lw=1, label=category)\n",
    "    \n",
    "plt.legend(loc=\"best\", shadow=False, scatterpoints=1)"
   ]
  },
  {
   "cell_type": "code",
   "execution_count": 4,
   "id": "a23f5ab5",
   "metadata": {},
   "outputs": [
    {
     "name": "stdout",
     "output_type": "stream",
     "text": [
      "787 263\n"
     ]
    }
   ],
   "source": [
    "from catboost import CatBoostRegressor, Pool\n",
    "\n",
    "# we separate the list of videos into a training (i.e. offline) set and a test set (i.e. online)\n",
    "train_ind, test_ind = train_test_split([k for k in range(len(v_names_train))], test_size = 0.25, random_state=0)\n",
    "# training set indexes\n",
    "# train_index = [v[:-4] for v in v_names_train]\n",
    "train_index = [v_names_train[k][:-4] for k in train_ind]\n",
    "# test set indexes\n",
    "test_index = [v_names_train[k][:-4] for k in test_ind]\n",
    "print(len(train_index), len(test_index))\n",
    "\n",
    "train_df = df[df.FILENAME.isin(train_index)]\n",
    "val_df = df[df.FILENAME.isin(test_index)]\n",
    "\n",
    "X_train = train_df[video_features + config_features].to_numpy()\n",
    "y_train = np.array(train_df[predDimension] / train_df[\"ORIG_KBS\"]).reshape(-1, 1)\n",
    "# y_train = np.array(train_df[predDimension]).reshape(-1, 1)\n",
    "X_val = val_df[video_features + config_features].to_numpy()\n",
    "y_val = np.array(val_df[predDimension] / val_df[\"ORIG_KBS\"]).reshape(-1, 1)\n",
    "# y_val = np.array(val_df[predDimension]).reshape(-1, 1)\n",
    "\n",
    "# classes = 10 ** np.linspace(np.log10(0.001), np.log10(1.0), 50)\n",
    "# y_train = ((train_df[predDimension] / train_df[\"ORIG_KBS\"]).to_numpy()[:, np.newaxis] < classes.reshape(1, -1)).argmax(axis=1).reshape(-1, 1)\n",
    "# y_val = ((val_df[predDimension] / val_df[\"ORIG_KBS\"]).to_numpy()[:, np.newaxis] < classes.reshape(1, -1)).argmax(axis=1).reshape(-1, 1)\n",
    "\n",
    "# obj_scaler = StandardScaler()\n",
    "# y_train = obj_scaler.fit_transform(y_train)\n",
    "# y_val = obj_scaler.transform(y_val)\n",
    "\n",
    "train_pool = Pool(X_train, \n",
    "                  y_train)\n",
    "test_pool = Pool(X_val, y_val)"
   ]
  },
  {
   "cell_type": "code",
   "execution_count": 5,
   "id": "65f1d20f",
   "metadata": {},
   "outputs": [
    {
     "data": {
      "application/vnd.jupyter.widget-view+json": {
       "model_id": "f2a92d14c2064c40b1c69ac0a02fd045",
       "version_major": 2,
       "version_minor": 0
      },
      "text/plain": [
       "MetricVisualizer(layout=Layout(align_self='stretch', height='500px'))"
      ]
     },
     "metadata": {},
     "output_type": "display_data"
    },
    {
     "name": "stdout",
     "output_type": "stream",
     "text": [
      "\n",
      "bestTest = 0.002478649267\n",
      "bestIteration = 999\n",
      "\n",
      "\n",
      "bestTest = 0.00246727392\n",
      "bestIteration = 999\n",
      "\n",
      "\n",
      "bestTest = 0.002670646136\n",
      "bestIteration = 999\n",
      "\n",
      "\n",
      "bestTest = 0.00163674779\n",
      "bestIteration = 999\n",
      "\n",
      "\n",
      "bestTest = 0.002699270126\n",
      "bestIteration = 999\n",
      "\n",
      "\n",
      "bestTest = 0.001663713255\n",
      "bestIteration = 999\n",
      "\n",
      "\n",
      "bestTest = 0.00167506544\n",
      "bestIteration = 999\n",
      "\n",
      "\n",
      "bestTest = 0.000793572909\n",
      "bestIteration = 999\n",
      "\n",
      "\n",
      "bestTest = 0.001510113894\n",
      "bestIteration = 999\n",
      "\n",
      "\n",
      "bestTest = 0.0008254482138\n",
      "bestIteration = 999\n",
      "\n"
     ]
    }
   ],
   "source": [
    "model = CatBoostRegressor(verbose=False)\n",
    "grid = {'learning_rate': [0.03, 0.1],\n",
    "        'depth': [4, 6, 10],\n",
    "        'l2_leaf_reg': [1, 3, 5, 7, 9]}\n",
    "\n",
    "randomized_search_result = model.randomized_search(grid,\n",
    "                                                   X=X_train,\n",
    "                                                   y=y_train,\n",
    "                                                   plot=True,\n",
    "                                                  verbose=False)"
   ]
  },
  {
   "cell_type": "code",
   "execution_count": 6,
   "id": "8c02dc4a",
   "metadata": {},
   "outputs": [
    {
     "data": {
      "text/plain": [
       "0.7709500390900006"
      ]
     },
     "execution_count": 6,
     "metadata": {},
     "output_type": "execute_result"
    }
   ],
   "source": [
    "model.score(test_pool)"
   ]
  },
  {
   "cell_type": "code",
   "execution_count": 15,
   "id": "18b79b2a",
   "metadata": {},
   "outputs": [],
   "source": [
    "# specify the training parameters \n",
    "model2 = CatBoostRegressor(iterations=50, \n",
    "#                           depth=10, \n",
    "#                           learning_rate=1, \n",
    "#                           grow_policy=\"Lossguide\",\n",
    "                          loss_function='RMSEWithUncertainty',\n",
    "                           posterior_sampling=True,\n",
    "                          verbose=False)\n",
    "#train the model\n",
    "model2.fit(train_pool, eval_set=test_pool, use_best_model=True)\n",
    "# make the prediction using the resulting model\n",
    "\n",
    "preds = model2.virtual_ensembles_predict(X_val, prediction_type='TotalUncertainty', \n",
    "                                        virtual_ensembles_count=10)\n",
    "mean_preds = preds[:,0] # mean values predicted by a virtual ensemble\n",
    "knowledge = preds[:,1] # knowledge uncertainty predicted by a virtual ensemble\n",
    "data = preds[:,2] # average estimated data uncertainty"
   ]
  },
  {
   "cell_type": "code",
   "execution_count": 21,
   "id": "ee120cd1",
   "metadata": {},
   "outputs": [
    {
     "data": {
      "text/plain": [
       "(8.626019375427949e-06, 34484, 0.006375417779917482, 34484)"
      ]
     },
     "execution_count": 21,
     "metadata": {},
     "output_type": "execute_result"
    }
   ],
   "source": [
    "knowledge.max(), knowledge.argmax(), data.max(), data.argmax()"
   ]
  },
  {
   "cell_type": "code",
   "execution_count": 28,
   "id": "89d1094f",
   "metadata": {},
   "outputs": [
    {
     "data": {
      "text/plain": [
       "array([1, 2, 4, 3])"
      ]
     },
     "execution_count": 28,
     "metadata": {},
     "output_type": "execute_result"
    }
   ],
   "source": [
    "np.partition([3,4,2,1], -3)"
   ]
  },
  {
   "cell_type": "code",
   "execution_count": 8,
   "id": "d0f2d129",
   "metadata": {},
   "outputs": [
    {
     "data": {
      "text/plain": [
       "0.7570141272805788"
      ]
     },
     "execution_count": 8,
     "metadata": {},
     "output_type": "execute_result"
    }
   ],
   "source": [
    "model2.score(test_pool)"
   ]
  },
  {
   "cell_type": "code",
   "execution_count": null,
   "id": "f94880e8",
   "metadata": {},
   "outputs": [],
   "source": [
    "# we separate the list of videos into a training (i.e. offline) set and a test set (i.e. online)\n",
    "train_ind, test_ind = train_test_split([k for k in range(len(v_names_train))], test_size = 0.25, random_state=0)\n",
    "# training set indexes\n",
    "# train_index = [v[:-4] for v in v_names_train]\n",
    "train_index = [v_names_train[k][:-4] for k in train_ind]\n",
    "# test set indexes\n",
    "test_index = [v_names_train[k][:-4] for k in test_ind]\n",
    "print(len(train_index), len(test_index))\n",
    "\n",
    "train_df = df[df.FILENAME.isin(train_index)]\n",
    "val_df = df[df.FILENAME.isin(test_index)]\n",
    "\n",
    "X_train = train_df[video_features + config_features].to_numpy()\n",
    "# y_train = np.array(train_df[predDimension] / train_df[\"ORIG_KBS\"]).reshape(-1, 1)\n",
    "# y_train = np.array(train_df[predDimension]).reshape(-1, 1)\n",
    "X_val = val_df[video_features + config_features].to_numpy()\n",
    "# y_val = np.array(val_df[predDimension] / val_df[\"ORIG_KBS\"]).reshape(-1, 1)\n",
    "# y_val = np.array(val_df[predDimension]).reshape(-1, 1)\n",
    "\n",
    "classes = 10 ** np.linspace(np.log10(0.001), np.log10(1.0), 50)\n",
    "y_train = ((train_df[predDimension] / train_df[\"ORIG_KBS\"]).to_numpy()[:, np.newaxis] < classes.reshape(1, -1)).argmax(axis=1).reshape(-1, 1)\n",
    "y_val = ((val_df[predDimension] / val_df[\"ORIG_KBS\"]).to_numpy()[:, np.newaxis] < classes.reshape(1, -1)).argmax(axis=1).reshape(-1, 1)\n",
    "\n",
    "# obj_scaler = StandardScaler()\n",
    "# y_train = obj_scaler.fit_transform(y_train)\n",
    "# y_val = obj_scaler.transform(y_val)"
   ]
  },
  {
   "cell_type": "code",
   "execution_count": null,
   "id": "a1518926",
   "metadata": {},
   "outputs": [],
   "source": [
    "clf = RandomForestClassifier(max_depth=None, min_samples_leaf=2, n_estimators=200, n_jobs=1)\n",
    "clf.fit(X_train, y_train.ravel())\n",
    "clf.score(X_val, y_val)\n",
    "# y_pred_val = clf.predict(X_val)\n",
    "# accuracy(y_val, y_pred_val)\n",
    "# performance_ratio(val_df, y_pred_val)"
   ]
  },
  {
   "cell_type": "code",
   "execution_count": null,
   "id": "83194b4b",
   "metadata": {},
   "outputs": [],
   "source": [
    "def print_val_error(y_val, y_pred_val, scaler):\n",
    "    mse = mean_squared_error(y_val, y_pred_val)\n",
    "    mae_rescaled = mean_absolute_error(scaler.inverse_transform(y_val), scaler.inverse_transform(y_pred_val))\n",
    "    mae_kbs = mean_absolute_error(scaler.inverse_transform(y_val).ravel()*val_df[\"ORIG_KBS\"].to_numpy(), scaler.inverse_transform(y_pred_val).ravel()*val_df[\"ORIG_KBS\"].to_numpy())\n",
    "    print(\"val error\", mse, mae_rescaled, mae_kbs)"
   ]
  },
  {
   "cell_type": "code",
   "execution_count": null,
   "id": "09a223f4",
   "metadata": {},
   "outputs": [],
   "source": [
    "rgr = BayesianRidge(normalize=True)\n",
    "rgr.fit(X_train, y_train.ravel())\n",
    "# rgr.score(X_val, y_val.ravel())\n",
    "y_pred_train = rgr.predict(X_train)\n",
    "y_pred_test = rgr.predict(X_val)\n",
    "print(\"train error: \", mean_squared_error(y_train, y_pred_train))\n",
    "print_val_error(y_val, y_pred_test, obj_scaler)"
   ]
  },
  {
   "cell_type": "code",
   "execution_count": null,
   "id": "7fce3f62",
   "metadata": {},
   "outputs": [],
   "source": [
    "X_red = []\n",
    "y_red = []\n",
    "\n",
    "for i in np.random.choice(X_train.shape[0], 1000, replace=False):\n",
    "    X_red.append(X_train[i])\n",
    "    y_red.append(y_train[i])\n",
    "    \n",
    "X_red = np.array(X_red)\n",
    "y_red = np.array(y_red)"
   ]
  },
  {
   "cell_type": "code",
   "execution_count": null,
   "id": "96dd8b58",
   "metadata": {},
   "outputs": [],
   "source": [
    "from sklearn.gaussian_process import GaussianProcessRegressor\n",
    "from sklearn.gaussian_process.kernels import WhiteKernel, RBF\n",
    "kernel = RBF(length_scale=1.0) + WhiteKernel(noise_level=1)\n",
    "\n",
    "rgr = GaussianProcessRegressor(kernel, normalize_y=False)  # , max_iter=500\n",
    "rgr.fit(X_red, y_red.ravel())\n",
    "# rgr.score(X_val, y_val.ravel())\n",
    "y_pred_train = rgr.predict(X_train)\n",
    "y_pred_test = rgr.predict(X_val)\n",
    "print(\"train error: \", mean_squared_error(y_train, y_pred_train))\n",
    "print_val_error(y_val, y_pred_test, obj_scaler)"
   ]
  },
  {
   "cell_type": "code",
   "execution_count": null,
   "id": "95b31d98",
   "metadata": {},
   "outputs": [],
   "source": [
    "np.histogram(train_df[\"kbs\"] / train_df[\"ORIG_KBS\"], bins=10 ** np.linspace(np.log10(0.001), np.log10(1.0), 50), range=(0,1), density=False)"
   ]
  },
  {
   "cell_type": "code",
   "execution_count": null,
   "id": "6cfa76bb",
   "metadata": {},
   "outputs": [],
   "source": [
    "b = [0.0, 0.001, 0.002, 0.004, 0.008, 0.016, 0.032, 0.064, 0.128, 0.256, 0.512, 1.0]\n",
    "np.histogram(train_df[\"kbs\"] / train_df[\"ORIG_KBS\"], bins=\"sturges\", range=(0,1), density=False)"
   ]
  },
  {
   "cell_type": "code",
   "execution_count": null,
   "id": "19a0663f",
   "metadata": {},
   "outputs": [],
   "source": [
    "np.histogram(np.log(train_df[\"size\"] / train_df[\"ORIG_SIZE\"]), bins=50)"
   ]
  },
  {
   "cell_type": "code",
   "execution_count": null,
   "id": "bcbc82d5",
   "metadata": {},
   "outputs": [],
   "source": [
    "from alipy.experiment.al_experiment import AlExperiment\n",
    "\n",
    "al = AlExperiment(X_train, y_train, stopping_criteria='num_of_queries', stopping_value=50,)\n",
    "al.split_AL()\n",
    "al.set_query_strategy(strategy=\"QueryInstanceUncertainty\", measure='least_confident')\n",
    "al.set_performance_metric('accuracy_score')\n",
    "al.start_query(multi_thread=True)\n",
    "al.plot_learning_curve()"
   ]
  }
 ],
 "metadata": {
  "kernelspec": {
   "display_name": "variability",
   "language": "python",
   "name": "variability"
  },
  "language_info": {
   "codemirror_mode": {
    "name": "ipython",
    "version": 3
   },
   "file_extension": ".py",
   "mimetype": "text/x-python",
   "name": "python",
   "nbconvert_exporter": "python",
   "pygments_lexer": "ipython3",
   "version": "3.9.5"
  }
 },
 "nbformat": 4,
 "nbformat_minor": 5
}
